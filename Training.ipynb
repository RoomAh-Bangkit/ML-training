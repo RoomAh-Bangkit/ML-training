{
  "cells": [
    {
      "cell_type": "markdown",
      "metadata": {
        "id": "KU6yGVrOsQ4t"
      },
      "source": [
        "# Setup"
      ]
    },
    {
      "cell_type": "markdown",
      "metadata": {
        "id": "L7tso5ZksTsF"
      },
      "source": [
        "## Importing"
      ]
    },
    {
      "cell_type": "code",
      "execution_count": null,
      "metadata": {
        "id": "PjRCnXpFQu_O"
      },
      "outputs": [],
      "source": [
        "import numpy as np\n",
        "import tensorflow as tf\n",
        "\n",
        "def _get_time():\n",
        "    import datetime\n",
        "\n",
        "    now = datetime.datetime.now() + datetime.timedelta(hours=7)\n",
        "    return now.strftime('%Y-%m-%d-%H%M')"
      ]
    },
    {
      "cell_type": "markdown",
      "metadata": {
        "id": "EXXu7btDsVYy"
      },
      "source": [
        "## Mounting"
      ]
    },
    {
      "cell_type": "code",
      "execution_count": null,
      "metadata": {
        "colab": {
          "base_uri": "https://localhost:8080/"
        },
        "id": "-UyXrUKoSTVh",
        "outputId": "22885c65-53a6-41e8-e9f8-febb3bbeb8bd"
      },
      "outputs": [
        {
          "output_type": "stream",
          "name": "stdout",
          "text": [
            "Mounted at /gdrive\n"
          ]
        }
      ],
      "source": [
        "from google.colab import drive\n",
        "drive.mount('/gdrive')"
      ]
    },
    {
      "cell_type": "code",
      "execution_count": null,
      "metadata": {
        "colab": {
          "base_uri": "https://localhost:8080/"
        },
        "id": "nFtFqEEBScjt",
        "outputId": "e8420427-7afa-4ce5-e646-50cfbe67b4c5"
      },
      "outputs": [
        {
          "output_type": "stream",
          "name": "stdout",
          "text": [
            "/gdrive/MyDrive/Capstone/ML\n"
          ]
        }
      ],
      "source": [
        "%cd '../gdrive/MyDrive/Capstone/ML'"
      ]
    },
    {
      "cell_type": "markdown",
      "metadata": {
        "id": "MG8vihqaUdYd"
      },
      "source": [
        "## ELT"
      ]
    },
    {
      "cell_type": "code",
      "execution_count": null,
      "metadata": {
        "id": "qNdUAIJeUgKG"
      },
      "outputs": [],
      "source": [
        "train_datagen = tf.keras.preprocessing.image.ImageDataGenerator(\n",
        "    rescale=1/255,\n",
        "    width_shift_range=0.1,\n",
        "    height_shift_range=0.1,\n",
        "    zoom_range=[0.9,1.1],\n",
        "    shear_range=180,\n",
        "    brightness_range=[0.8,1.2],\n",
        "    # channel_shift_range=150.0,\n",
        "    horizontal_flip=True,\n",
        ")\n",
        "\n",
        "validation_datagen = tf.keras.preprocessing.image.ImageDataGenerator(\n",
        "    rescale=1/255,\n",
        ")"
      ]
    },
    {
      "cell_type": "code",
      "execution_count": null,
      "metadata": {
        "colab": {
          "base_uri": "https://localhost:8080/"
        },
        "id": "JCbO92s8YBRO",
        "outputId": "cea90ef7-7f26-4274-a7b6-6afeccee4b79"
      },
      "outputs": [
        {
          "output_type": "stream",
          "name": "stdout",
          "text": [
            "Found 7994 images belonging to 5 classes.\n",
            "Found 1068 images belonging to 5 classes.\n"
          ]
        }
      ],
      "source": [
        "train_dir = './House_Room_Dataset/Training'\n",
        "validation_dir = './House_Room_Dataset/Validation'\n",
        "\n",
        "train_generator = train_datagen.flow_from_directory(\n",
        "    train_dir,\n",
        "    target_size=(224,224),\n",
        ")\n",
        "\n",
        "validation_generator = validation_datagen.flow_from_directory(\n",
        "    validation_dir,\n",
        "    target_size=(224,224),\n",
        ")"
      ]
    },
    {
      "cell_type": "markdown",
      "metadata": {
        "id": "aAO0R2uYaet2"
      },
      "source": [
        "# Training"
      ]
    },
    {
      "cell_type": "markdown",
      "metadata": {
        "id": "pum2nUPmx5z5"
      },
      "source": [
        "## v1 Original"
      ]
    },
    {
      "cell_type": "markdown",
      "metadata": {
        "id": "Pzk-kB7y-XTP"
      },
      "source": [
        "### Hide"
      ]
    },
    {
      "cell_type": "markdown",
      "metadata": {
        "id": "McVl4EPhqKo8"
      },
      "source": [
        "#### 1st Run Test Run v1.0.01"
      ]
    },
    {
      "cell_type": "code",
      "execution_count": null,
      "metadata": {
        "colab": {
          "base_uri": "https://localhost:8080/"
        },
        "id": "WfLA1ZYFafvK",
        "outputId": "4118f4b9-bab3-4fe2-f759-613bb4feb024"
      },
      "outputs": [
        {
          "name": "stdout",
          "output_type": "stream",
          "text": [
            "Model: \"sequential\"\n",
            "_________________________________________________________________\n",
            " Layer (type)                Output Shape              Param #   \n",
            "=================================================================\n",
            " conv2d (Conv2D)             (None, 222, 222, 16)      448       \n",
            "                                                                 \n",
            " max_pooling2d (MaxPooling2D  (None, 111, 111, 16)     0         \n",
            " )                                                               \n",
            "                                                                 \n",
            " conv2d_1 (Conv2D)           (None, 109, 109, 32)      4640      \n",
            "                                                                 \n",
            " max_pooling2d_1 (MaxPooling  (None, 54, 54, 32)       0         \n",
            " 2D)                                                             \n",
            "                                                                 \n",
            " conv2d_2 (Conv2D)           (None, 52, 52, 64)        18496     \n",
            "                                                                 \n",
            " max_pooling2d_2 (MaxPooling  (None, 26, 26, 64)       0         \n",
            " 2D)                                                             \n",
            "                                                                 \n",
            " flatten (Flatten)           (None, 43264)             0         \n",
            "                                                                 \n",
            " dense (Dense)               (None, 512)               22151680  \n",
            "                                                                 \n",
            " dense_1 (Dense)             (None, 5)                 2565      \n",
            "                                                                 \n",
            "=================================================================\n",
            "Total params: 22,177,829\n",
            "Trainable params: 22,177,829\n",
            "Non-trainable params: 0\n",
            "_________________________________________________________________\n"
          ]
        }
      ],
      "source": [
        "model = tf.keras.models.Sequential([\n",
        "    tf.keras.layers.Conv2D(16, (3,3), activation='relu', input_shape=(224,224,3)),\n",
        "    tf.keras.layers.MaxPooling2D(2,2),\n",
        "    tf.keras.layers.Conv2D(32, (3,3), activation='relu'),\n",
        "    tf.keras.layers.MaxPooling2D(2,2),\n",
        "    tf.keras.layers.Conv2D(64, (3,3), activation='relu'),\n",
        "    tf.keras.layers.MaxPooling2D(2,2),\n",
        "\n",
        "    tf.keras.layers.Flatten(),\n",
        "\n",
        "    tf.keras.layers.Dense(512, activation='relu'),\n",
        "    tf.keras.layers.Dense(5, activation='softmax')\n",
        "])\n",
        "\n",
        "model.summary()"
      ]
    },
    {
      "cell_type": "code",
      "execution_count": null,
      "metadata": {
        "id": "Wd4Sx5WMrqzq"
      },
      "outputs": [],
      "source": [
        "model.compile(\n",
        "    optimizer='adam',\n",
        "    loss='categorical_crossentropy',\n",
        "    metrics=['accuracy']\n",
        ")"
      ]
    },
    {
      "cell_type": "code",
      "execution_count": null,
      "metadata": {
        "colab": {
          "base_uri": "https://localhost:8080/"
        },
        "id": "jr3dg1_rbOXT",
        "outputId": "e913d6ad-261f-47c5-c41b-9944269cdd4c"
      },
      "outputs": [
        {
          "name": "stdout",
          "output_type": "stream",
          "text": [
            "Epoch 1/5\n",
            "250/250 [==============================] - 2114s 8s/step - loss: 1.6298 - accuracy: 0.3085 - val_loss: 1.5097 - val_accuracy: 0.3301\n",
            "Epoch 2/5\n",
            "250/250 [==============================] - 156s 625ms/step - loss: 1.4253 - accuracy: 0.3734 - val_loss: 1.3727 - val_accuracy: 0.4344\n",
            "Epoch 3/5\n",
            "250/250 [==============================] - 156s 625ms/step - loss: 1.3785 - accuracy: 0.4089 - val_loss: 1.2597 - val_accuracy: 0.4976\n",
            "Epoch 4/5\n",
            "250/250 [==============================] - 156s 623ms/step - loss: 1.3449 - accuracy: 0.4253 - val_loss: 1.2203 - val_accuracy: 0.5206\n",
            "Epoch 5/5\n",
            "250/250 [==============================] - 158s 631ms/step - loss: 1.3070 - accuracy: 0.4567 - val_loss: 1.1569 - val_accuracy: 0.5474\n"
          ]
        },
        {
          "data": {
            "text/plain": [
              "<keras.callbacks.History at 0x7f42d2ee56d0>"
            ]
          },
          "execution_count": 8,
          "metadata": {},
          "output_type": "execute_result"
        }
      ],
      "source": [
        "EPOCHS = 5\n",
        "\n",
        "model.fit(\n",
        "    train_generator,\n",
        "    epochs = EPOCHS,\n",
        "    validation_data=validation_generator,\n",
        ")"
      ]
    },
    {
      "cell_type": "code",
      "execution_count": null,
      "metadata": {
        "colab": {
          "base_uri": "https://localhost:8080/"
        },
        "id": "M3j6B8g-muE-",
        "outputId": "d2eb37fc-3d61-451f-ecab-fe2f84279c21"
      },
      "outputs": [
        {
          "name": "stdout",
          "output_type": "stream",
          "text": [
            "INFO:tensorflow:Assets written to: ./Model/assets\n"
          ]
        }
      ],
      "source": [
        "model.save(\"./Model/\")"
      ]
    },
    {
      "cell_type": "markdown",
      "metadata": {
        "id": "E_s6U-x9qOAd"
      },
      "source": [
        "#### 2nd Run With Validation v1.0.02"
      ]
    },
    {
      "cell_type": "code",
      "execution_count": null,
      "metadata": {
        "colab": {
          "base_uri": "https://localhost:8080/",
          "height": 311
        },
        "id": "LY66mEQDqPYQ",
        "outputId": "ca32aa99-80bd-4d03-e5f2-2ffd75c12b61"
      },
      "outputs": [
        {
          "ename": "OSError",
          "evalue": "ignored",
          "output_type": "error",
          "traceback": [
            "\u001b[0;31m---------------------------------------------------------------------------\u001b[0m",
            "\u001b[0;31mOSError\u001b[0m                                   Traceback (most recent call last)",
            "\u001b[0;32m<ipython-input-20-aab1b7129d45>\u001b[0m in \u001b[0;36m<module>\u001b[0;34m()\u001b[0m\n\u001b[0;32m----> 1\u001b[0;31m \u001b[0mnew_model\u001b[0m \u001b[0;34m=\u001b[0m \u001b[0mtf\u001b[0m\u001b[0;34m.\u001b[0m\u001b[0mkeras\u001b[0m\u001b[0;34m.\u001b[0m\u001b[0mmodels\u001b[0m\u001b[0;34m.\u001b[0m\u001b[0mload_model\u001b[0m\u001b[0;34m(\u001b[0m\u001b[0;34m'./Models/Model-202205131111'\u001b[0m\u001b[0;34m)\u001b[0m\u001b[0;34m\u001b[0m\u001b[0;34m\u001b[0m\u001b[0m\n\u001b[0m",
            "\u001b[0;32m/usr/local/lib/python3.7/dist-packages/keras/utils/traceback_utils.py\u001b[0m in \u001b[0;36merror_handler\u001b[0;34m(*args, **kwargs)\u001b[0m\n\u001b[1;32m     65\u001b[0m     \u001b[0;32mexcept\u001b[0m \u001b[0mException\u001b[0m \u001b[0;32mas\u001b[0m \u001b[0me\u001b[0m\u001b[0;34m:\u001b[0m  \u001b[0;31m# pylint: disable=broad-except\u001b[0m\u001b[0;34m\u001b[0m\u001b[0;34m\u001b[0m\u001b[0m\n\u001b[1;32m     66\u001b[0m       \u001b[0mfiltered_tb\u001b[0m \u001b[0;34m=\u001b[0m \u001b[0m_process_traceback_frames\u001b[0m\u001b[0;34m(\u001b[0m\u001b[0me\u001b[0m\u001b[0;34m.\u001b[0m\u001b[0m__traceback__\u001b[0m\u001b[0;34m)\u001b[0m\u001b[0;34m\u001b[0m\u001b[0;34m\u001b[0m\u001b[0m\n\u001b[0;32m---> 67\u001b[0;31m       \u001b[0;32mraise\u001b[0m \u001b[0me\u001b[0m\u001b[0;34m.\u001b[0m\u001b[0mwith_traceback\u001b[0m\u001b[0;34m(\u001b[0m\u001b[0mfiltered_tb\u001b[0m\u001b[0;34m)\u001b[0m \u001b[0;32mfrom\u001b[0m \u001b[0;32mNone\u001b[0m\u001b[0;34m\u001b[0m\u001b[0;34m\u001b[0m\u001b[0m\n\u001b[0m\u001b[1;32m     68\u001b[0m     \u001b[0;32mfinally\u001b[0m\u001b[0;34m:\u001b[0m\u001b[0;34m\u001b[0m\u001b[0;34m\u001b[0m\u001b[0m\n\u001b[1;32m     69\u001b[0m       \u001b[0;32mdel\u001b[0m \u001b[0mfiltered_tb\u001b[0m\u001b[0;34m\u001b[0m\u001b[0;34m\u001b[0m\u001b[0m\n",
            "\u001b[0;32m/usr/local/lib/python3.7/dist-packages/keras/saving/save.py\u001b[0m in \u001b[0;36mload_model\u001b[0;34m(filepath, custom_objects, compile, options)\u001b[0m\n\u001b[1;32m    202\u001b[0m         \u001b[0;32mif\u001b[0m \u001b[0misinstance\u001b[0m\u001b[0;34m(\u001b[0m\u001b[0mfilepath_str\u001b[0m\u001b[0;34m,\u001b[0m \u001b[0mstr\u001b[0m\u001b[0;34m)\u001b[0m\u001b[0;34m:\u001b[0m\u001b[0;34m\u001b[0m\u001b[0;34m\u001b[0m\u001b[0m\n\u001b[1;32m    203\u001b[0m           \u001b[0;32mif\u001b[0m \u001b[0;32mnot\u001b[0m \u001b[0mtf\u001b[0m\u001b[0;34m.\u001b[0m\u001b[0mio\u001b[0m\u001b[0;34m.\u001b[0m\u001b[0mgfile\u001b[0m\u001b[0;34m.\u001b[0m\u001b[0mexists\u001b[0m\u001b[0;34m(\u001b[0m\u001b[0mfilepath_str\u001b[0m\u001b[0;34m)\u001b[0m\u001b[0;34m:\u001b[0m\u001b[0;34m\u001b[0m\u001b[0;34m\u001b[0m\u001b[0m\n\u001b[0;32m--> 204\u001b[0;31m             \u001b[0;32mraise\u001b[0m \u001b[0mIOError\u001b[0m\u001b[0;34m(\u001b[0m\u001b[0;34mf'No file or directory found at {filepath_str}'\u001b[0m\u001b[0;34m)\u001b[0m\u001b[0;34m\u001b[0m\u001b[0;34m\u001b[0m\u001b[0m\n\u001b[0m\u001b[1;32m    205\u001b[0m \u001b[0;34m\u001b[0m\u001b[0m\n\u001b[1;32m    206\u001b[0m           \u001b[0;32mif\u001b[0m \u001b[0mtf\u001b[0m\u001b[0;34m.\u001b[0m\u001b[0mio\u001b[0m\u001b[0;34m.\u001b[0m\u001b[0mgfile\u001b[0m\u001b[0;34m.\u001b[0m\u001b[0misdir\u001b[0m\u001b[0;34m(\u001b[0m\u001b[0mfilepath_str\u001b[0m\u001b[0;34m)\u001b[0m\u001b[0;34m:\u001b[0m\u001b[0;34m\u001b[0m\u001b[0;34m\u001b[0m\u001b[0m\n",
            "\u001b[0;31mOSError\u001b[0m: No file or directory found at ./Models/Model-202205131111"
          ]
        }
      ],
      "source": [
        "new_model = tf.keras.models.load_model('./Models/Model-202205131111')"
      ]
    },
    {
      "cell_type": "code",
      "execution_count": null,
      "metadata": {
        "colab": {
          "base_uri": "https://localhost:8080/"
        },
        "id": "flLOqrXrKyFB",
        "outputId": "8a4e819c-d102-4158-dd20-44e796d113a1"
      },
      "outputs": [
        {
          "name": "stdout",
          "output_type": "stream",
          "text": [
            "Drive already mounted at /content/drive; to attempt to forcibly remount, call drive.mount(\"/content/drive\", force_remount=True).\n"
          ]
        }
      ],
      "source": [
        "from google.colab import drive\n",
        "drive.mount('/content/drive')"
      ]
    },
    {
      "cell_type": "code",
      "execution_count": null,
      "metadata": {
        "colab": {
          "base_uri": "https://localhost:8080/",
          "height": 235
        },
        "id": "oVJgPo5FqPi1",
        "outputId": "7d418855-298a-479a-ffc7-2a75a97dbf2d"
      },
      "outputs": [
        {
          "ename": "NameError",
          "evalue": "ignored",
          "output_type": "error",
          "traceback": [
            "\u001b[0;31m---------------------------------------------------------------------------\u001b[0m",
            "\u001b[0;31mNameError\u001b[0m                                 Traceback (most recent call last)",
            "\u001b[0;32m<ipython-input-12-fbf7c9040d2b>\u001b[0m in \u001b[0;36m<module>\u001b[0;34m()\u001b[0m\n\u001b[0;32m----> 1\u001b[0;31m new_model.fit(\n\u001b[0m\u001b[1;32m      2\u001b[0m     \u001b[0mtrain_generator\u001b[0m\u001b[0;34m,\u001b[0m\u001b[0;34m\u001b[0m\u001b[0;34m\u001b[0m\u001b[0m\n\u001b[1;32m      3\u001b[0m     \u001b[0mepochs\u001b[0m \u001b[0;34m=\u001b[0m \u001b[0mEPOCHS\u001b[0m\u001b[0;34m,\u001b[0m\u001b[0;34m\u001b[0m\u001b[0;34m\u001b[0m\u001b[0m\n\u001b[1;32m      4\u001b[0m     \u001b[0mvalidation_data\u001b[0m\u001b[0;34m=\u001b[0m\u001b[0mvalidation_generator\u001b[0m\u001b[0;34m,\u001b[0m\u001b[0;34m\u001b[0m\u001b[0;34m\u001b[0m\u001b[0m\n\u001b[1;32m      5\u001b[0m )\n",
            "\u001b[0;31mNameError\u001b[0m: name 'new_model' is not defined"
          ]
        }
      ],
      "source": [
        "new_model.fit(\n",
        "    train_generator,\n",
        "    epochs = EPOCHS,\n",
        "    validation_data=validation_generator,\n",
        ")"
      ]
    },
    {
      "cell_type": "code",
      "execution_count": null,
      "metadata": {
        "id": "FUdu8hxoq3ab"
      },
      "outputs": [],
      "source": [
        "new_model.save('./Models/Model-2205131137')"
      ]
    },
    {
      "cell_type": "markdown",
      "metadata": {
        "id": "8q-mroIgQovy"
      },
      "source": [
        "#### 3rd Run With Augmentation v1.0.03"
      ]
    },
    {
      "cell_type": "code",
      "execution_count": null,
      "metadata": {
        "id": "8eS5-GkeQtkt"
      },
      "outputs": [],
      "source": [
        "model = tf.keras.models.load_model('./Models/Model-2205131137')"
      ]
    },
    {
      "cell_type": "code",
      "execution_count": null,
      "metadata": {
        "id": "mEDqXECVQ6R5"
      },
      "outputs": [],
      "source": [
        "EPOCHS = 10\n",
        "\n",
        "model.fit(\n",
        "    train_generator,\n",
        "    epochs = EPOCHS,\n",
        "    validation_data=validation_generator,\n",
        ")"
      ]
    },
    {
      "cell_type": "code",
      "execution_count": null,
      "metadata": {
        "id": "aDv9p5uWn9ee"
      },
      "outputs": [],
      "source": [
        "model.save(f\"./Models/Model-{_get_time()}\")"
      ]
    },
    {
      "cell_type": "markdown",
      "metadata": {
        "id": "q6aXR2W_CZSY"
      },
      "source": [
        "#### 4th Run With Preprocessed Dataset, Recompiled Model v1.0.04"
      ]
    },
    {
      "cell_type": "code",
      "execution_count": null,
      "metadata": {
        "id": "cwITsyx3Cc5k"
      },
      "outputs": [],
      "source": [
        "model = tf.keras.models.load_model('./Models/Model-2022-05-13-1747')\n",
        "\n",
        "reset_optimizer = tf.keras.optimizers.Adam()\n",
        "model.compile(\n",
        "    optimizer=reset_optimizer,\n",
        "    loss='categorical_crossentropy',\n",
        "    metrics=['accuracy']\n",
        "    )"
      ]
    },
    {
      "cell_type": "code",
      "execution_count": null,
      "metadata": {
        "id": "5-c4j-Z6CiOx"
      },
      "outputs": [],
      "source": [
        "EPOCHS = 10\n",
        "\n",
        "model.fit(\n",
        "    train_generator,\n",
        "    epochs = EPOCHS,\n",
        "    validation_data=validation_generator,\n",
        ")"
      ]
    },
    {
      "cell_type": "code",
      "execution_count": null,
      "metadata": {
        "id": "ldpFGim_45QX"
      },
      "outputs": [],
      "source": [
        "model.save(f\"./Models/Model-{_get_time()}\")"
      ]
    },
    {
      "cell_type": "markdown",
      "metadata": {
        "id": "HoN1gVS9D1BP"
      },
      "source": [
        "### 5th Run v1.0.05"
      ]
    },
    {
      "cell_type": "code",
      "execution_count": null,
      "metadata": {
        "id": "uMQhLiRQD6lS"
      },
      "outputs": [],
      "source": [
        "model = tf.keras.models.load_model('./Models/Model-2022-05-15-1631')"
      ]
    },
    {
      "cell_type": "code",
      "execution_count": null,
      "metadata": {
        "id": "K6QiwmoJD65j"
      },
      "outputs": [],
      "source": [
        "EPOCHS = 10\n",
        "\n",
        "model.fit(\n",
        "    train_generator,\n",
        "    epochs = EPOCHS,\n",
        "    validation_data=validation_generator,\n",
        ")"
      ]
    },
    {
      "cell_type": "code",
      "execution_count": null,
      "metadata": {
        "id": "t5J5LbqEcK4r"
      },
      "outputs": [],
      "source": [
        "model.save(f\"./Models/Model-{_get_time()}\")"
      ]
    },
    {
      "cell_type": "code",
      "execution_count": null,
      "metadata": {
        "id": "8DFNWa3icQqQ"
      },
      "outputs": [],
      "source": [
        "model = tf.keras.models.load_model('./Models/Model-2022-05-16-1736')"
      ]
    },
    {
      "cell_type": "code",
      "execution_count": null,
      "metadata": {
        "id": "rqrySGhkcP3R"
      },
      "outputs": [],
      "source": [
        "EPOCHS = 30\n",
        "\n",
        "model.fit(\n",
        "    train_generator,\n",
        "    epochs = EPOCHS,\n",
        "    validation_data=validation_generator,\n",
        ")"
      ]
    },
    {
      "cell_type": "code",
      "execution_count": null,
      "metadata": {
        "id": "RX8I7cyicaQQ"
      },
      "outputs": [],
      "source": [
        "model.save(f\"./Models/Model-{_get_time()}\")"
      ]
    },
    {
      "cell_type": "markdown",
      "metadata": {
        "id": "8KHtRB-6-39K"
      },
      "source": [
        "## v2 VGG16 Extract Feature"
      ]
    },
    {
      "cell_type": "code",
      "execution_count": null,
      "metadata": {
        "id": "rxNzE7l47-tf"
      },
      "outputs": [],
      "source": [
        "ckpt_dir = './Models/Model-v2-vgg16'\n",
        "\n",
        "callback_ckpt = tf.keras.callbacks.ModelCheckpoint(\n",
        "    ckpt_dir,\n",
        "    monitor='val_loss',\n",
        "    save_best_only=True,\n",
        ")"
      ]
    },
    {
      "cell_type": "markdown",
      "metadata": {
        "id": "7i7EOzJoIg7u"
      },
      "source": [
        "### Hide"
      ]
    },
    {
      "cell_type": "markdown",
      "metadata": {
        "id": "dDIqqWVTIig4"
      },
      "source": [
        "#### 1st Run"
      ]
    },
    {
      "cell_type": "code",
      "execution_count": null,
      "metadata": {
        "colab": {
          "base_uri": "https://localhost:8080/"
        },
        "id": "4XxWyx1JAAOj",
        "outputId": "991dc597-8392-443f-bf39-c0ff942370fe"
      },
      "outputs": [
        {
          "name": "stdout",
          "output_type": "stream",
          "text": [
            "Downloading data from https://storage.googleapis.com/tensorflow/keras-applications/vgg16/vgg16_weights_tf_dim_ordering_tf_kernels.h5\n",
            "553467904/553467096 [==============================] - 4s 0us/step\n",
            "553476096/553467096 [==============================] - 4s 0us/step\n",
            "Model: \"model\"\n",
            "_________________________________________________________________\n",
            " Layer (type)                Output Shape              Param #   \n",
            "=================================================================\n",
            " input_1 (InputLayer)        [(None, 224, 224, 3)]     0         \n",
            "                                                                 \n",
            " block1_conv1 (Conv2D)       (None, 224, 224, 64)      1792      \n",
            "                                                                 \n",
            " block1_conv2 (Conv2D)       (None, 224, 224, 64)      36928     \n",
            "                                                                 \n",
            " block1_pool (MaxPooling2D)  (None, 112, 112, 64)      0         \n",
            "                                                                 \n",
            " block2_conv1 (Conv2D)       (None, 112, 112, 128)     73856     \n",
            "                                                                 \n",
            " block2_conv2 (Conv2D)       (None, 112, 112, 128)     147584    \n",
            "                                                                 \n",
            " block2_pool (MaxPooling2D)  (None, 56, 56, 128)       0         \n",
            "                                                                 \n",
            " block3_conv1 (Conv2D)       (None, 56, 56, 256)       295168    \n",
            "                                                                 \n",
            " block3_conv2 (Conv2D)       (None, 56, 56, 256)       590080    \n",
            "                                                                 \n",
            " block3_conv3 (Conv2D)       (None, 56, 56, 256)       590080    \n",
            "                                                                 \n",
            " block3_pool (MaxPooling2D)  (None, 28, 28, 256)       0         \n",
            "                                                                 \n",
            " block4_conv1 (Conv2D)       (None, 28, 28, 512)       1180160   \n",
            "                                                                 \n",
            " block4_conv2 (Conv2D)       (None, 28, 28, 512)       2359808   \n",
            "                                                                 \n",
            " block4_conv3 (Conv2D)       (None, 28, 28, 512)       2359808   \n",
            "                                                                 \n",
            " block4_pool (MaxPooling2D)  (None, 14, 14, 512)       0         \n",
            "                                                                 \n",
            " block5_conv1 (Conv2D)       (None, 14, 14, 512)       2359808   \n",
            "                                                                 \n",
            " block5_conv2 (Conv2D)       (None, 14, 14, 512)       2359808   \n",
            "                                                                 \n",
            " block5_conv3 (Conv2D)       (None, 14, 14, 512)       2359808   \n",
            "                                                                 \n",
            " block5_pool (MaxPooling2D)  (None, 7, 7, 512)         0         \n",
            "                                                                 \n",
            " flatten (Flatten)           (None, 25088)             0         \n",
            "                                                                 \n",
            " fc1 (Dense)                 (None, 4096)              102764544 \n",
            "                                                                 \n",
            " fc2 (Dense)                 (None, 4096)              16781312  \n",
            "                                                                 \n",
            " dense (Dense)               (None, 5)                 20485     \n",
            "                                                                 \n",
            "=================================================================\n",
            "Total params: 134,281,029\n",
            "Trainable params: 119,566,341\n",
            "Non-trainable params: 14,714,688\n",
            "_________________________________________________________________\n"
          ]
        }
      ],
      "source": [
        "vgg16_extractor = tf.keras.applications.vgg16.VGG16(weights='imagenet', include_top=True)\n",
        "\n",
        "for layer in vgg16_extractor.layers[0:-4]:\n",
        "    layer.trainable = False\n",
        "\n",
        "last_desired_layer = vgg16_extractor.get_layer('fc2')\n",
        "last_output = last_desired_layer.output\n",
        "\n",
        "classifier = tf.keras.layers.Dense(5, activation='softmax')(last_output)\n",
        "\n",
        "model = tf.keras.Model(inputs=vgg16_extractor.input, outputs=classifier)\n",
        "\n",
        "model.summary()"
      ]
    },
    {
      "cell_type": "code",
      "execution_count": null,
      "metadata": {
        "id": "uvpQ_2zzK9W5"
      },
      "outputs": [],
      "source": [
        "model.compile(\n",
        "    optimizer='adam',\n",
        "    loss='categorical_crossentropy',\n",
        "    metrics=['accuracy']\n",
        ")"
      ]
    },
    {
      "cell_type": "code",
      "execution_count": null,
      "metadata": {
        "id": "EYvgt4kzFK26"
      },
      "outputs": [],
      "source": [
        "#@title Default title text\n",
        "EPOCHS = 10\n",
        "\n",
        "model.fit(\n",
        "    train_generator,\n",
        "    epochs = EPOCHS,\n",
        "    validation_data=validation_generator,\n",
        "    callbacks=[callback_ckpt]\n",
        ")"
      ]
    },
    {
      "cell_type": "code",
      "execution_count": null,
      "metadata": {
        "id": "Da3NFcAIXcdw"
      },
      "outputs": [],
      "source": [
        "#@title Default title text\n",
        "EPOCHS = 10\n",
        "\n",
        "model.fit(\n",
        "    train_generator,\n",
        "    epochs = EPOCHS,\n",
        "    validation_data=validation_generator,\n",
        "    callbacks=[callback_ckpt]\n",
        ")"
      ]
    },
    {
      "cell_type": "code",
      "execution_count": null,
      "metadata": {
        "id": "cyzgUGBofiju"
      },
      "outputs": [],
      "source": [
        "#@title Default title text\n",
        "EPOCHS = 10\n",
        "\n",
        "model.fit(\n",
        "    train_generator,\n",
        "    epochs = EPOCHS,\n",
        "    validation_data=validation_generator,\n",
        "    callbacks=[callback_ckpt]\n",
        ")"
      ]
    },
    {
      "cell_type": "code",
      "execution_count": null,
      "metadata": {
        "id": "5tM0qttXkk0W"
      },
      "outputs": [],
      "source": [
        "#@title Default title text\n",
        "EPOCHS = 10\n",
        "\n",
        "model.fit(\n",
        "    train_generator,\n",
        "    epochs = EPOCHS,\n",
        "    validation_data=validation_generator,\n",
        "    callbacks=[callback_ckpt]\n",
        ")"
      ]
    },
    {
      "cell_type": "code",
      "execution_count": null,
      "metadata": {
        "id": "FWmdqLIXpeAP"
      },
      "outputs": [],
      "source": [
        "#@title Default title text\n",
        "EPOCHS = 10\n",
        "\n",
        "model.fit(\n",
        "    train_generator,\n",
        "    epochs = EPOCHS,\n",
        "    validation_data=validation_generator,\n",
        "    callbacks=[callback_ckpt]\n",
        ")"
      ]
    },
    {
      "cell_type": "markdown",
      "metadata": {
        "id": "WLOcbFG0Ikxj"
      },
      "source": [
        "#### 2nd Run"
      ]
    },
    {
      "cell_type": "code",
      "execution_count": null,
      "metadata": {
        "id": "6Qz5rqZHInk9"
      },
      "outputs": [],
      "source": [
        "model = tf.keras.models.load_model(ckpt_dir)\n",
        "\n",
        "# model.compile(\n",
        "#     optimizer='adam',\n",
        "#     loss='categorical_crossentropy',\n",
        "#     metrics=['accuracy']\n",
        "# )"
      ]
    },
    {
      "cell_type": "code",
      "execution_count": null,
      "metadata": {
        "id": "FTE8HrFnItxe"
      },
      "outputs": [],
      "source": [
        "EPOCHS = 40\n",
        "\n",
        "model.fit(\n",
        "    train_generator,\n",
        "    epochs = EPOCHS,\n",
        "    validation_data=validation_generator,\n",
        "    callbacks=[callback_ckpt]\n",
        ")"
      ]
    },
    {
      "cell_type": "markdown",
      "metadata": {
        "id": "YAgG0AGCIast"
      },
      "source": [
        "### 3rd Run"
      ]
    },
    {
      "cell_type": "code",
      "execution_count": null,
      "metadata": {
        "id": "g1gRO2oUIf2y"
      },
      "outputs": [],
      "source": [
        "model = tf.keras.models.load_model(ckpt_dir)\n",
        "\n",
        "# model.compile(\n",
        "#     optimizer='adam',\n",
        "#     loss='categorical_crossentropy',\n",
        "#     metrics=['accuracy']\n",
        "# )"
      ]
    },
    {
      "cell_type": "code",
      "execution_count": null,
      "metadata": {
        "colab": {
          "base_uri": "https://localhost:8080/"
        },
        "id": "UzKTwm_DIgrX",
        "outputId": "64444b19-3c59-4c4b-b877-b66b29957359"
      },
      "outputs": [
        {
          "name": "stdout",
          "output_type": "stream",
          "text": [
            "Epoch 1/40\n",
            "250/250 [==============================] - ETA: 0s - loss: 0.7168 - accuracy: 0.7210INFO:tensorflow:Assets written to: ./Models/Model-v2-vgg16/assets\n",
            "250/250 [==============================] - 2560s 10s/step - loss: 0.7168 - accuracy: 0.7210 - val_loss: 0.6944 - val_accuracy: 0.7959\n",
            "Epoch 2/40\n",
            "250/250 [==============================] - ETA: 0s - loss: 0.7233 - accuracy: 0.7225INFO:tensorflow:Assets written to: ./Models/Model-v2-vgg16/assets\n",
            "250/250 [==============================] - 194s 777ms/step - loss: 0.7233 - accuracy: 0.7225 - val_loss: 0.6399 - val_accuracy: 0.8146\n",
            "Epoch 3/40\n",
            "250/250 [==============================] - 186s 743ms/step - loss: 0.7165 - accuracy: 0.7228 - val_loss: 0.6889 - val_accuracy: 0.7996\n",
            "Epoch 4/40\n",
            "250/250 [==============================] - 171s 685ms/step - loss: 0.7108 - accuracy: 0.7252 - val_loss: 0.7036 - val_accuracy: 0.7903\n",
            "Epoch 5/40\n",
            "250/250 [==============================] - ETA: 0s - loss: 0.7127 - accuracy: 0.7218INFO:tensorflow:Assets written to: ./Models/Model-v2-vgg16/assets\n",
            "250/250 [==============================] - 180s 719ms/step - loss: 0.7127 - accuracy: 0.7218 - val_loss: 0.6282 - val_accuracy: 0.8193\n",
            "Epoch 6/40\n",
            "250/250 [==============================] - 181s 724ms/step - loss: 0.7213 - accuracy: 0.7200 - val_loss: 0.7146 - val_accuracy: 0.7743\n",
            "Epoch 7/40\n",
            "250/250 [==============================] - 172s 689ms/step - loss: 0.7014 - accuracy: 0.7243 - val_loss: 0.6607 - val_accuracy: 0.7996\n",
            "Epoch 8/40\n",
            "250/250 [==============================] - 171s 685ms/step - loss: 0.7104 - accuracy: 0.7258 - val_loss: 0.6312 - val_accuracy: 0.8109\n",
            "Epoch 9/40\n",
            "250/250 [==============================] - 171s 683ms/step - loss: 0.7056 - accuracy: 0.7283 - val_loss: 0.6302 - val_accuracy: 0.8174\n",
            "Epoch 10/40\n",
            "250/250 [==============================] - 171s 684ms/step - loss: 0.7155 - accuracy: 0.7222 - val_loss: 0.7322 - val_accuracy: 0.8109\n",
            "Epoch 11/40\n",
            "250/250 [==============================] - 170s 680ms/step - loss: 0.7052 - accuracy: 0.7253 - val_loss: 0.6903 - val_accuracy: 0.7987\n",
            "Epoch 12/40\n",
            "250/250 [==============================] - ETA: 0s - loss: 0.7191 - accuracy: 0.7229INFO:tensorflow:Assets written to: ./Models/Model-v2-vgg16/assets\n",
            "250/250 [==============================] - 178s 713ms/step - loss: 0.7191 - accuracy: 0.7229 - val_loss: 0.6027 - val_accuracy: 0.8071\n",
            "Epoch 13/40\n",
            "250/250 [==============================] - 180s 720ms/step - loss: 0.6948 - accuracy: 0.7314 - val_loss: 0.6582 - val_accuracy: 0.8137\n",
            "Epoch 14/40\n",
            "250/250 [==============================] - 171s 682ms/step - loss: 0.6890 - accuracy: 0.7347 - val_loss: 0.6462 - val_accuracy: 0.8193\n",
            "Epoch 15/40\n",
            "250/250 [==============================] - 170s 680ms/step - loss: 0.6872 - accuracy: 0.7341 - val_loss: 0.6754 - val_accuracy: 0.8071\n",
            "Epoch 16/40\n",
            "250/250 [==============================] - 170s 680ms/step - loss: 0.7028 - accuracy: 0.7292 - val_loss: 0.6682 - val_accuracy: 0.7949\n",
            "Epoch 17/40\n",
            "250/250 [==============================] - 170s 679ms/step - loss: 0.6919 - accuracy: 0.7359 - val_loss: 0.6512 - val_accuracy: 0.8146\n",
            "Epoch 18/40\n",
            "250/250 [==============================] - 170s 679ms/step - loss: 0.7084 - accuracy: 0.7245 - val_loss: 0.6955 - val_accuracy: 0.7949\n",
            "Epoch 19/40\n",
            "250/250 [==============================] - 170s 681ms/step - loss: 0.6964 - accuracy: 0.7293 - val_loss: 0.6214 - val_accuracy: 0.8165\n",
            "Epoch 20/40\n",
            "250/250 [==============================] - 170s 681ms/step - loss: 0.6943 - accuracy: 0.7273 - val_loss: 0.6345 - val_accuracy: 0.8015\n",
            "Epoch 21/40\n",
            "250/250 [==============================] - 170s 680ms/step - loss: 0.6877 - accuracy: 0.7292 - val_loss: 0.6982 - val_accuracy: 0.8146\n",
            "Epoch 22/40\n",
            "250/250 [==============================] - 169s 675ms/step - loss: 0.6727 - accuracy: 0.7398 - val_loss: 0.6582 - val_accuracy: 0.8137\n",
            "Epoch 23/40\n",
            "250/250 [==============================] - 170s 679ms/step - loss: 0.6793 - accuracy: 0.7363 - val_loss: 0.6148 - val_accuracy: 0.8193\n",
            "Epoch 24/40\n",
            "250/250 [==============================] - 170s 679ms/step - loss: 0.6883 - accuracy: 0.7349 - val_loss: 0.6287 - val_accuracy: 0.8034\n",
            "Epoch 25/40\n",
            "250/250 [==============================] - 170s 681ms/step - loss: 0.6902 - accuracy: 0.7318 - val_loss: 0.6059 - val_accuracy: 0.8230\n",
            "Epoch 26/40\n",
            "250/250 [==============================] - 170s 679ms/step - loss: 0.6874 - accuracy: 0.7303 - val_loss: 0.6281 - val_accuracy: 0.8099\n",
            "Epoch 27/40\n",
            "250/250 [==============================] - 171s 682ms/step - loss: 0.6878 - accuracy: 0.7319 - val_loss: 0.6888 - val_accuracy: 0.7884\n",
            "Epoch 28/40\n",
            "250/250 [==============================] - 170s 681ms/step - loss: 0.6861 - accuracy: 0.7327 - val_loss: 0.6918 - val_accuracy: 0.7940\n",
            "Epoch 29/40\n",
            "250/250 [==============================] - 171s 683ms/step - loss: 0.6853 - accuracy: 0.7359 - val_loss: 0.6720 - val_accuracy: 0.8118\n",
            "Epoch 30/40\n",
            "250/250 [==============================] - 171s 683ms/step - loss: 0.6918 - accuracy: 0.7283 - val_loss: 0.6975 - val_accuracy: 0.7959\n",
            "Epoch 31/40\n",
            "250/250 [==============================] - 169s 677ms/step - loss: 0.6911 - accuracy: 0.7323 - val_loss: 0.7204 - val_accuracy: 0.7818\n",
            "Epoch 32/40\n",
            "250/250 [==============================] - 171s 682ms/step - loss: 0.6644 - accuracy: 0.7429 - val_loss: 0.6723 - val_accuracy: 0.8202\n",
            "Epoch 33/40\n",
            "250/250 [==============================] - 170s 680ms/step - loss: 0.6843 - accuracy: 0.7269 - val_loss: 0.7180 - val_accuracy: 0.8015\n",
            "Epoch 34/40\n",
            "250/250 [==============================] - 171s 683ms/step - loss: 0.6831 - accuracy: 0.7382 - val_loss: 0.6581 - val_accuracy: 0.8193\n",
            "Epoch 35/40\n",
            "250/250 [==============================] - 170s 680ms/step - loss: 0.6843 - accuracy: 0.7358 - val_loss: 0.6287 - val_accuracy: 0.8137\n",
            "Epoch 36/40\n",
            "250/250 [==============================] - 170s 681ms/step - loss: 0.6745 - accuracy: 0.7368 - val_loss: 0.7670 - val_accuracy: 0.7706\n",
            "Epoch 37/40\n",
            "250/250 [==============================] - 170s 682ms/step - loss: 0.6685 - accuracy: 0.7376 - val_loss: 0.6561 - val_accuracy: 0.8212\n",
            "Epoch 38/40\n",
            "250/250 [==============================] - 173s 689ms/step - loss: 0.6737 - accuracy: 0.7382 - val_loss: 0.6357 - val_accuracy: 0.8165\n",
            "Epoch 39/40\n",
            "250/250 [==============================] - 182s 727ms/step - loss: 0.6712 - accuracy: 0.7362 - val_loss: 0.7082 - val_accuracy: 0.8071\n",
            "Epoch 40/40\n",
            "250/250 [==============================] - 179s 718ms/step - loss: 0.6637 - accuracy: 0.7438 - val_loss: 0.6310 - val_accuracy: 0.8146\n"
          ]
        }
      ],
      "source": [
        "EPOCHS = 40\n",
        "\n",
        "model.fit(\n",
        "    train_generator,\n",
        "    epochs = EPOCHS,\n",
        "    validation_data=validation_generator,\n",
        "    callbacks=[callback_ckpt]\n",
        ")"
      ]
    },
    {
      "cell_type": "code",
      "source": [
        "EPOCHS = 10\n",
        "\n",
        "model.fit(\n",
        "    train_generator,\n",
        "    epochs = EPOCHS,\n",
        "    validation_data=validation_generator,\n",
        "    callbacks=[callback_ckpt]\n",
        ")"
      ],
      "metadata": {
        "colab": {
          "base_uri": "https://localhost:8080/"
        },
        "id": "uRU9SVGIilAb",
        "outputId": "61aa469c-62fb-4a4c-941c-a1d9bdce014d"
      },
      "execution_count": null,
      "outputs": [
        {
          "output_type": "stream",
          "name": "stdout",
          "text": [
            "Epoch 1/10\n",
            "250/250 [==============================] - ETA: 0s - loss: 0.7096 - accuracy: 0.7285INFO:tensorflow:Assets written to: ./Models/Model-v2-vgg16/assets\n",
            "250/250 [==============================] - 2631s 10s/step - loss: 0.7096 - accuracy: 0.7285 - val_loss: 0.6897 - val_accuracy: 0.8155\n",
            "Epoch 2/10\n",
            "250/250 [==============================] - ETA: 0s - loss: 0.7001 - accuracy: 0.7314INFO:tensorflow:Assets written to: ./Models/Model-v2-vgg16/assets\n",
            "250/250 [==============================] - 192s 768ms/step - loss: 0.7001 - accuracy: 0.7314 - val_loss: 0.6234 - val_accuracy: 0.8146\n",
            "Epoch 3/10\n",
            "250/250 [==============================] - 186s 745ms/step - loss: 0.7209 - accuracy: 0.7247 - val_loss: 0.6269 - val_accuracy: 0.8052\n",
            "Epoch 4/10\n",
            "250/250 [==============================] - 173s 691ms/step - loss: 0.6986 - accuracy: 0.7324 - val_loss: 0.6501 - val_accuracy: 0.8052\n",
            "Epoch 5/10\n",
            "250/250 [==============================] - ETA: 0s - loss: 0.6974 - accuracy: 0.7318INFO:tensorflow:Assets written to: ./Models/Model-v2-vgg16/assets\n",
            "250/250 [==============================] - 180s 721ms/step - loss: 0.6974 - accuracy: 0.7318 - val_loss: 0.6230 - val_accuracy: 0.8099\n",
            "Epoch 6/10\n",
            "250/250 [==============================] - 184s 738ms/step - loss: 0.6949 - accuracy: 0.7336 - val_loss: 0.6557 - val_accuracy: 0.7968\n",
            "Epoch 7/10\n",
            "250/250 [==============================] - ETA: 0s - loss: 0.6951 - accuracy: 0.7368INFO:tensorflow:Assets written to: ./Models/Model-v2-vgg16/assets\n",
            "250/250 [==============================] - 179s 718ms/step - loss: 0.6951 - accuracy: 0.7368 - val_loss: 0.6156 - val_accuracy: 0.8024\n",
            "Epoch 8/10\n",
            "250/250 [==============================] - 180s 720ms/step - loss: 0.6936 - accuracy: 0.7333 - val_loss: 0.6425 - val_accuracy: 0.8052\n",
            "Epoch 9/10\n",
            "250/250 [==============================] - 169s 674ms/step - loss: 0.6872 - accuracy: 0.7320 - val_loss: 0.6386 - val_accuracy: 0.8081\n",
            "Epoch 10/10\n",
            "250/250 [==============================] - 172s 687ms/step - loss: 0.6850 - accuracy: 0.7347 - val_loss: 0.7086 - val_accuracy: 0.7959\n"
          ]
        },
        {
          "output_type": "execute_result",
          "data": {
            "text/plain": [
              "<keras.callbacks.History at 0x7f052024e3d0>"
            ]
          },
          "metadata": {},
          "execution_count": 8
        }
      ]
    },
    {
      "cell_type": "code",
      "source": [
        "EPOCHS = 10\n",
        "\n",
        "model.fit(\n",
        "    train_generator,\n",
        "    epochs = EPOCHS,\n",
        "    validation_data=validation_generator,\n",
        "    callbacks=[callback_ckpt]\n",
        ")"
      ],
      "metadata": {
        "colab": {
          "base_uri": "https://localhost:8080/"
        },
        "id": "Ke0ZEDMW6ryZ",
        "outputId": "f94c0ce2-b34a-48cd-bc1c-18065d5b9d33"
      },
      "execution_count": null,
      "outputs": [
        {
          "output_type": "stream",
          "name": "stdout",
          "text": [
            "Epoch 1/10\n",
            "250/250 [==============================] - 173s 689ms/step - loss: 0.6852 - accuracy: 0.7352 - val_loss: 0.6829 - val_accuracy: 0.8174\n",
            "Epoch 2/10\n",
            "250/250 [==============================] - 170s 680ms/step - loss: 0.6914 - accuracy: 0.7349 - val_loss: 0.6602 - val_accuracy: 0.7865\n",
            "Epoch 3/10\n",
            "250/250 [==============================] - 170s 679ms/step - loss: 0.6829 - accuracy: 0.7328 - val_loss: 0.6380 - val_accuracy: 0.8043\n",
            "Epoch 4/10\n",
            "250/250 [==============================] - 171s 682ms/step - loss: 0.6910 - accuracy: 0.7392 - val_loss: 0.6168 - val_accuracy: 0.8109\n",
            "Epoch 5/10\n",
            "250/250 [==============================] - ETA: 0s - loss: 0.6891 - accuracy: 0.7344INFO:tensorflow:Assets written to: ./Models/Model-v2-vgg16/assets\n",
            "250/250 [==============================] - 180s 718ms/step - loss: 0.6891 - accuracy: 0.7344 - val_loss: 0.6098 - val_accuracy: 0.8127\n",
            "Epoch 6/10\n",
            "250/250 [==============================] - ETA: 0s - loss: 0.6944 - accuracy: 0.7290INFO:tensorflow:Assets written to: ./Models/Model-v2-vgg16/assets\n",
            "250/250 [==============================] - 191s 764ms/step - loss: 0.6944 - accuracy: 0.7290 - val_loss: 0.5829 - val_accuracy: 0.8240\n",
            "Epoch 7/10\n",
            "250/250 [==============================] - 178s 712ms/step - loss: 0.6686 - accuracy: 0.7452 - val_loss: 0.6762 - val_accuracy: 0.8155\n",
            "Epoch 8/10\n",
            "250/250 [==============================] - 172s 687ms/step - loss: 0.6897 - accuracy: 0.7412 - val_loss: 0.6233 - val_accuracy: 0.8202\n",
            "Epoch 9/10\n",
            "250/250 [==============================] - 169s 677ms/step - loss: 0.6895 - accuracy: 0.7329 - val_loss: 0.6480 - val_accuracy: 0.8071\n",
            "Epoch 10/10\n",
            "250/250 [==============================] - ETA: 0s - loss: 0.7053 - accuracy: 0.7272"
          ]
        }
      ]
    },
    {
      "cell_type": "markdown",
      "metadata": {
        "id": "The2A8W8qM5d"
      },
      "source": [
        "# Testing"
      ]
    },
    {
      "cell_type": "code",
      "execution_count": null,
      "metadata": {
        "id": "7wGwOcABmQ_2"
      },
      "outputs": [],
      "source": [
        "import numpy as np\n",
        "\n",
        "from google.colab import files\n",
        "from keras.preprocessing import image\n",
        "\n",
        "uploaded=files.upload()\n",
        "dir = !pwd\n",
        "dir = dir[0]\n",
        "\n",
        "for fn in uploaded.keys():\n",
        "    # predicting images\n",
        "    path= f\"{dir}/{fn}\"\n",
        "    img=image.load_img(path, target_size=(224, 224))\n",
        "    \n",
        "    x=image.img_to_array(img)\n",
        "    x /= 255\n",
        "    x=np.expand_dims(x, axis=0)\n",
        "    images = np.vstack([x])\n",
        "    \n",
        "    classes = model.predict(images, batch_size=10)\n",
        "    \n",
        "    imax = np.argmax(classes[0])\n",
        "    print(classes[0])\n",
        "\n",
        "    if imax == 0:\n",
        "        print(\"Bathroom\")\n",
        "    elif imax == 1:\n",
        "        print(\"Bedroom\")\n",
        "    elif imax == 2:\n",
        "        print(\"Dinning\")\n",
        "    elif imax == 3:\n",
        "        print(\"Kitchen\")\n",
        "    elif imax == 4:\n",
        "        print(\"Livingroom\")"
      ]
    },
    {
      "cell_type": "code",
      "execution_count": null,
      "metadata": {
        "colab": {
          "base_uri": "https://localhost:8080/"
        },
        "id": "qTEpYtU63ldX",
        "outputId": "2e4249a5-10db-4699-af18-05cee894041c"
      },
      "outputs": [
        {
          "output_type": "stream",
          "name": "stdout",
          "text": [
            "Found 499 images belonging to 5 classes.\n"
          ]
        }
      ],
      "source": [
        "testing_dir = './House_Room_Dataset/Testing'\n",
        "\n",
        "testing_datagen = tf.keras.preprocessing.image.ImageDataGenerator(\n",
        "    rescale=1/255,\n",
        ")\n",
        "\n",
        "testing_generator = testing_datagen.flow_from_directory(\n",
        "    testing_dir,\n",
        "    target_size=(224,224),\n",
        ")"
      ]
    },
    {
      "cell_type": "code",
      "execution_count": null,
      "metadata": {
        "colab": {
          "base_uri": "https://localhost:8080/"
        },
        "id": "wB6V8MIf6Lg4",
        "outputId": "7c4bbad4-e9f6-435e-dc10-cac8b1147a09"
      },
      "outputs": [
        {
          "output_type": "execute_result",
          "data": {
            "text/plain": [
              "<tf.Tensor: shape=(5, 5), dtype=int32, numpy=\n",
              "array([[23, 22, 13, 19, 23],\n",
              "       [16, 23, 16, 19, 26],\n",
              "       [22, 21, 18, 24, 15],\n",
              "       [21, 18, 22, 23, 15],\n",
              "       [25, 14, 15, 18, 28]], dtype=int32)>"
            ]
          },
          "metadata": {},
          "execution_count": 12
        }
      ],
      "source": [
        "y_pred = model.predict(testing_generator)\n",
        "y_pred = np.apply_along_axis(lambda x: np.argmax(x), 1, y_pred)\n",
        "\n",
        "y_true = testing_generator.labels\n",
        "\n",
        "tf.math.confusion_matrix(\n",
        "    y_true,\n",
        "    y_pred,\n",
        "    num_classes=5,\n",
        ")"
      ]
    },
    {
      "cell_type": "code",
      "execution_count": null,
      "metadata": {
        "colab": {
          "base_uri": "https://localhost:8080/"
        },
        "id": "l8yqMnVN_GX6",
        "outputId": "bed931c5-dc93-420c-82b5-62a1a43f47df"
      },
      "outputs": [
        {
          "output_type": "stream",
          "name": "stdout",
          "text": [
            "16/16 [==============================] - 266s 16s/step - loss: 0.5007 - accuracy: 0.8216\n"
          ]
        },
        {
          "output_type": "execute_result",
          "data": {
            "text/plain": [
              "[0.5007370710372925, 0.8216432929039001]"
            ]
          },
          "metadata": {},
          "execution_count": 13
        }
      ],
      "source": [
        "model.evaluate(\n",
        "    testing_generator\n",
        ")"
      ]
    },
    {
      "cell_type": "markdown",
      "source": [
        "# Export To TFL"
      ],
      "metadata": {
        "id": "f5QAJSjwjXpG"
      }
    },
    {
      "cell_type": "code",
      "source": [
        "# Convert the model\n",
        "converter = tf.lite.TFLiteConverter.from_saved_model('./Models/Model-v2-vgg16') # path to the SavedModel directory\n",
        "tflite_model = converter.convert()\n",
        "\n",
        "# Save the model.\n",
        "with open('prod_model.tflite', 'wb') as f:\n",
        "  f.write(tflite_model)"
      ],
      "metadata": {
        "colab": {
          "base_uri": "https://localhost:8080/"
        },
        "id": "T11SAdQijY9T",
        "outputId": "520d3ec7-5cd3-4f3a-9d2e-0a7506d60737"
      },
      "execution_count": null,
      "outputs": [
        {
          "output_type": "stream",
          "name": "stderr",
          "text": [
            "WARNING:absl:Buffer deduplication procedure will be skipped when flatbuffer library is not properly loaded\n"
          ]
        }
      ]
    },
    {
      "cell_type": "code",
      "source": [
        "import matplotlib\n",
        "import tensorflow as tf\n",
        "import numpy as np\n",
        "import os\n",
        "import matplotlib.pyplot as plt\n",
        "import matplotlib.image as mpimg\n",
        "\n",
        "# https: // stackoverflow.com/questions/53684971/assertion-failed-flask-server-stops-after-script-is-run\n",
        "matplotlib.use('Agg')\n",
        "\n",
        "def get_category(img):\n",
        "    \"\"\"Write a Function to Predict the Class Name\n",
        "    Args:\n",
        "        img [jpg]: image file with 3 color channels\n",
        "    Returns:\n",
        "        [str]: Prediction\n",
        "    \"\"\"\n",
        "    # Read an image from a file into a numpy array\n",
        "    img = mpimg.imread(img)\n",
        "    # Convert to float32\n",
        "    img = tf.cast(img, tf.float32)\n",
        "    # Resize to 224x224 (size the model is expecting)\n",
        "    img = tf.image.resize(img, [224, 224])\n",
        "    # Expand img dimensions from (224, 224, 3) to (1, 224, 224, 3) for set_tensor method call\n",
        "    img = np.expand_dims(img, axis=0)\n",
        "\n",
        "    tflite_model_file = './prod_model.tflite'\n",
        "\n",
        "    with open(tflite_model_file, 'rb') as fid:\n",
        "        tflite_model = fid.read()\n",
        "\n",
        "    interpreter = tf.lite.Interpreter(model_content=tflite_model)\n",
        "    interpreter.allocate_tensors()\n",
        "\n",
        "    input_index = interpreter.get_input_details()[0][\"index\"]\n",
        "    output_index = interpreter.get_output_details()[0][\"index\"]\n",
        "    \n",
        "    prediction = []\n",
        "    interpreter.set_tensor(input_index, img)\n",
        "    interpreter.invoke()\n",
        "    prediction.append(interpreter.get_tensor(output_index))\n",
        "    \n",
        "    predicted_label = [np.argmax(_prediction) for _prediction in prediction]\n",
        "    class_names = ['Bathroom', 'Bedroom', 'Dinning', 'Kitchen', 'Livingroom']\n",
        "    predicted_label = [class_names[index] for index in predicted_label]\n",
        "\n",
        "    return predicted_label\n",
        "\n",
        "\n",
        "# def plot_category(img):\n",
        "def plot_category(img, current_time):\n",
        "    \"\"\"Plot the input image. Timestamp used to help Flask grab the correct image.\n",
        "    Args:\n",
        "        img [jpg]: image file\n",
        "        current_time: timestamp\n",
        "    \"\"\"\n",
        "    # Read an image from a file into a numpy array\n",
        "    img = mpimg.imread(img1)\n",
        "    # Remove the plotting ticks\n",
        "    plt.grid(False)\n",
        "    plt.xticks([])\n",
        "    plt.yticks([])\n",
        "    plt.imshow(img, cmap=plt.cm.binary)\n",
        "    # To make sure Flask grabs the correct image to plot\n",
        "    strFile = f'static/images/output_{current_time}.png'\n",
        "    if os.path.isfile(strFile):\n",
        "        os.remove(strFile)\n",
        "    # Save the image with the file name that result.html is using as its img src\n",
        "    plt.savefig(strFile)"
      ],
      "metadata": {
        "id": "tVgQo2Fb1WXP"
      },
      "execution_count": null,
      "outputs": []
    },
    {
      "cell_type": "code",
      "source": [
        "dir = '/gdrive/MyDrive/Capstone/ML/House_Room_Dataset/Testing/Bathroom/BATH_23.jpg'\n",
        "get_category(dir)"
      ],
      "metadata": {
        "colab": {
          "base_uri": "https://localhost:8080/"
        },
        "id": "VYnkh1K-1kfZ",
        "outputId": "47fd9c6f-f252-4c45-d1f7-59cdefed9983"
      },
      "execution_count": null,
      "outputs": [
        {
          "output_type": "execute_result",
          "data": {
            "text/plain": [
              "['Bathroom']"
            ]
          },
          "metadata": {},
          "execution_count": 16
        }
      ]
    }
  ],
  "metadata": {
    "accelerator": "GPU",
    "colab": {
      "collapsed_sections": [
        "KU6yGVrOsQ4t",
        "L7tso5ZksTsF",
        "pum2nUPmx5z5",
        "Pzk-kB7y-XTP",
        "McVl4EPhqKo8",
        "HoN1gVS9D1BP",
        "7i7EOzJoIg7u",
        "dDIqqWVTIig4",
        "WLOcbFG0Ikxj",
        "The2A8W8qM5d"
      ],
      "name": "Training.ipynb",
      "provenance": []
    },
    "kernelspec": {
      "display_name": "Python 3",
      "name": "python3"
    },
    "language_info": {
      "name": "python"
    }
  },
  "nbformat": 4,
  "nbformat_minor": 0
}